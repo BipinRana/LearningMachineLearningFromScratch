{
 "cells": [
  {
   "cell_type": "code",
   "execution_count": 1,
   "id": "1fa5e108-fd19-4d2d-ae90-95a917f3f0ad",
   "metadata": {},
   "outputs": [],
   "source": [
    "import numpy as np\n",
    "import pandas as pd"
   ]
  },
  {
   "cell_type": "code",
   "execution_count": 2,
   "id": "7ec39736-5de3-4f09-b2dd-139c565d36c4",
   "metadata": {},
   "outputs": [],
   "source": [
    "X_train = np.array([\n",
    "    [2,3],\n",
    "    [1,1],\n",
    "    [2.5,2],\n",
    "    [6,6],\n",
    "    [7,7],\n",
    "    [5.5,5.5]\n",
    "])"
   ]
  },
  {
   "cell_type": "code",
   "execution_count": 3,
   "id": "d0bdd6ba-5a11-457b-90bf-878212db5983",
   "metadata": {},
   "outputs": [],
   "source": [
    "y_train = np.array([0,0,0,1,1,1])"
   ]
  },
  {
   "cell_type": "code",
   "execution_count": 4,
   "id": "5d04ba63-b3df-4816-8bed-c475f59728b3",
   "metadata": {},
   "outputs": [],
   "source": [
    "x_new = np.array([5,6])"
   ]
  },
  {
   "cell_type": "code",
   "execution_count": 5,
   "id": "eff32f8b-cd7b-4324-a8a3-27b6b96e93f7",
   "metadata": {},
   "outputs": [],
   "source": [
    "def euclidean_distance(x1,x2):\n",
    "    return np.sqrt(np.sum(x1-x2)**2)"
   ]
  },
  {
   "cell_type": "code",
   "execution_count": 6,
   "id": "24893419-d56d-4f39-81bd-a74c34a16305",
   "metadata": {},
   "outputs": [],
   "source": [
    "def get_neighbours(X,Y,X_new,k):\n",
    "    distances = []\n",
    "    for i in range(len(X)):\n",
    "        dist= euclidean_distance(X[i],X_new)\n",
    "        distances.append((dist,Y[i]))\n",
    "\n",
    "    distances.sort(key =lambda x:x[0])\n",
    "    neighbors = [distances[i][1] for i in range(k)]\n",
    "    return neighbors"
   ]
  },
  {
   "cell_type": "code",
   "execution_count": 7,
   "id": "af3891a1-8f93-44b2-a45e-cb98a11b6232",
   "metadata": {},
   "outputs": [],
   "source": [
    "def predict(X,y,X_new,k):\n",
    "    neighbors = get_neighbours(X,y,X_new,k)\n",
    "    counts = np.bincount(neighbors)\n",
    "    return np.argmax(counts)\n",
    "    "
   ]
  },
  {
   "cell_type": "code",
   "execution_count": 8,
   "id": "ca6823d5-0983-451c-9642-5cfbd958634f",
   "metadata": {},
   "outputs": [
    {
     "data": {
      "text/plain": [
       "np.int64(1)"
      ]
     },
     "execution_count": 8,
     "metadata": {},
     "output_type": "execute_result"
    }
   ],
   "source": [
    "predict(X_train,y_train,x_new,3)"
   ]
  },
  {
   "cell_type": "code",
   "execution_count": 9,
   "id": "fc12ff1d-0658-4679-96ed-b5ceb592dcc6",
   "metadata": {},
   "outputs": [
    {
     "data": {
      "image/png": "[encoded data removed]",
      "text/plain": [
       "<Figure size 640x480 with 1 Axes>"
      ]
     },
     "metadata": {},
     "output_type": "display_data"
    }
   ],
   "source": [
    "import matplotlib.pyplot as plt\n",
    "\n",
    "for label in np.unique(y_train):\n",
    "    plt.scatter(X_train[y_train==label][:,0],X_train[y_train == label][:,1],label=f\"Class {label}\")\n",
    "\n",
    "plt.scatter(x_new[0],x_new[1],color='red',label='New Point',marker='x',s=100)\n",
    "plt.xlabel('x1');\n",
    "plt.ylabel('x2');\n",
    "plt.legend()\n",
    "plt.title('KNN Classifier Visualizaiton')\n",
    "plt.show()    "
   ]
  },
  {
   "cell_type": "code",
   "execution_count": null,
   "id": "df37fcc5-f350-443f-ae77-d622e1168d54",
   "metadata": {},
   "outputs": [],
   "source": []
  }
 ],
 "metadata": {
  "kernelspec": {
   "display_name": "Python 3 (ipykernel)",
   "language": "python",
   "name": "python3"
  },
  "language_info": {
   "codemirror_mode": {
    "name": "ipython",
    "version": 3
   },
   "file_extension": ".py",
   "mimetype": "text/x-python",
   "name": "python",
   "nbconvert_exporter": "python",
   "pygments_lexer": "ipython3",
   "version": "3.13.0"
  }
 },
 "nbformat": 4,
 "nbformat_minor": 5
}
