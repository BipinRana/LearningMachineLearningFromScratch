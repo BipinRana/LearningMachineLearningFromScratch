{
 "cells": [
  {
   "cell_type": "code",
   "execution_count": 301,
   "id": "2b47de3b-1bbe-4198-8317-0edf8f11bd45",
   "metadata": {},
   "outputs": [
    {
     "name": "stdout",
     "output_type": "stream",
     "text": [
      "Accuracy Score of Imitation: 0.8375\n",
      "Accuracy Score of Imitation: 0.8875\n"
     ]
    }
   ],
   "source": [
    "import pandas as pd\n",
    "import random\n",
    "from sklearn.metrics import accuracy_score\n",
    "from sklearn.preprocessing import OneHotEncoder\n",
    "from sklearn.model_selection import train_test_split\n",
    "from sklearn.preprocessing import StandardScaler\n",
    "import numpy as np\n",
    "\n",
    "# Load dataset\n",
    "df = pd.read_csv('Social_Network_Ads.csv')\n",
    "data = df[['Gender', 'Age', 'EstimatedSalary']].copy()\n",
    "Y = df[['Purchased']]\n",
    "\n",
    "# One-hot encode 'Gender' column\n",
    "encoder = OneHotEncoder(sparse_output=False, drop='first', dtype=int)\n",
    "encoder.fit(data[['Gender']])\n",
    "data['Male'] = encoder.transform(data[['Gender']])[:, 0]\n",
    "data.drop('Gender', axis=1, inplace=True)\n",
    "\n",
    "# Split data into train and test sets\n",
    "X_train, X_test, Y_train, Y_test = train_test_split(data, Y['Purchased'], test_size=0.2, random_state=42)\n",
    "\n",
    "# Feature scaling\n",
    "scaler = StandardScaler()\n",
    "scaler.fit(X_train)\n",
    "X_train[['Age', 'EstimatedSalary', 'Male']] = scaler.transform(X_train[['Age', 'EstimatedSalary', 'Male']])\n",
    "X_test[['Age', 'EstimatedSalary', 'Male']] = scaler.transform(X_test[['Age', 'EstimatedSalary', 'Male']])\n",
    "\n",
    "# Sigmoid function with clipping to avoid overflow\n",
    "def sigmoid(z):\n",
    "    z = np.clip(z, -500, 500)\n",
    "    return 1 / (1 + np.exp(-z))\n",
    "\n",
    "# Prediction function\n",
    "def predict(A, B, C, D, data):\n",
    "    z = A * data['Age'] + B * data['Male'] + C * data['EstimatedSalary'] + D\n",
    "    probabilities = sigmoid(z)\n",
    "    return [1 if prob >= 0.5 else 0 for prob in probabilities]\n",
    "\n",
    "# Logistic regression using gradient descent\n",
    "A, B, C, D = 1, 1, 1, -2  # Initialize weights and bias\n",
    "learning_rate = 0.01\n",
    "\n",
    "# Gradient Descent loop\n",
    "for i in range(10000):\n",
    "    rand = random.randint(0, X_train.shape[0] - 1)  # Random index for stochastic gradient descent\n",
    "    X_current = X_train.iloc[rand]  # Use .iloc to index the row correctly\n",
    "    target = Y_train.iloc[rand]  # Use .iloc to access the target correctly\n",
    "    \n",
    "    # Calculate the linear combination (z)\n",
    "    z = A * X_current['Age'] + B * X_current['Male'] + C * X_current['EstimatedSalary'] + D\n",
    "    \n",
    "    # Update weights based on the gradient of the loss function\n",
    "    if target == 1 and z < 0:\n",
    "        A += X_current['Age'] * learning_rate\n",
    "        B += X_current['Male'] * learning_rate\n",
    "        C += X_current['EstimatedSalary'] * learning_rate\n",
    "        D += 1 * learning_rate\n",
    "        \n",
    "    elif target == 0 and z >= 0:\n",
    "        A -= X_current['Age'] * learning_rate\n",
    "        B -= X_current['Male'] * learning_rate\n",
    "        C -= X_current['EstimatedSalary'] * learning_rate\n",
    "        D -= 1 * learning_rate\n",
    "\n",
    "# Calculate accuracy\n",
    "accuracy = accuracy_score(Y_test, predict(A, B, C, D, X_test))\n",
    "print(f\"Accuracy Score of Imitation: {accuracy}\")\n",
    "\n",
    "model = LogisticRegression()\n",
    "model.fit(X_train,Y_train)\n",
    "log_accuracy = accuracy_score(Y_test, model.predict(X_test))\n",
    "print(f\"Accuracy Score of Imitation: {log_accuracy}\")\n"
   ]
  }
 ],
 "metadata": {
  "kernelspec": {
   "display_name": "Python 3 (ipykernel)",
   "language": "python",
   "name": "python3"
  },
  "language_info": {
   "codemirror_mode": {
    "name": "ipython",
    "version": 3
   },
   "file_extension": ".py",
   "mimetype": "text/x-python",
   "name": "python",
   "nbconvert_exporter": "python",
   "pygments_lexer": "ipython3",
   "version": "3.13.0"
  }
 },
 "nbformat": 4,
 "nbformat_minor": 5
}
